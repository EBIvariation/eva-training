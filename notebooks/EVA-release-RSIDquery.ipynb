{
 "cells": [
  {
   "cell_type": "markdown",
   "metadata": {},
   "source": [
    "# Fetching data from EVA RS ID releases\n",
    "## API swagger documentation - [Identifiers_API](https://www.ebi.ac.uk/eva/webservices/identifiers/swagger-ui.html)\n",
    "We can use the API to query clustered data from EVA RS ID releases. This is variant data that has been submitted directly to the EVA, accessioned to receive an SS ID, then clustered into an RS ID.\n",
    "In this case, we will be using our RS ID of interest rs379920406 which can be used as an input"
   ]
  },
  {
   "cell_type": "code",
   "execution_count": 1,
   "metadata": {},
   "outputs": [],
   "source": [
    "import requests\n",
    "import json"
   ]
  },
  {
   "cell_type": "code",
   "execution_count": 2,
   "metadata": {},
   "outputs": [],
   "source": [
    "# Query paratmeter - only the numeric string of the ID is required\n",
    "rsid = \"379920406\""
   ]
  },
  {
   "cell_type": "code",
   "execution_count": 3,
   "metadata": {},
   "outputs": [],
   "source": [
    "request_url = f'https://www.ebi.ac.uk/eva/webservices/identifiers/v1/clustered-variants/{rsid}/submitted'\n",
    "response = requests.get(request_url)\n",
    "output = response.json()"
   ]
  },
  {
   "cell_type": "code",
   "execution_count": 4,
   "metadata": {},
   "outputs": [
    {
     "name": "stdout",
     "output_type": "stream",
     "text": [
      "{\n",
      "  \"accession\": 7571130482,\n",
      "  \"version\": 1,\n",
      "  \"data\": {\n",
      "    \"referenceSequenceAccession\": \"GCA_002263795.2\",\n",
      "    \"taxonomyAccession\": 9913,\n",
      "    \"projectAccession\": \"PRJEB46861\",\n",
      "    \"contig\": \"CM008173.2\",\n",
      "    \"start\": 85411136,\n",
      "    \"referenceAllele\": \"C\",\n",
      "    \"alternateAllele\": \"T\",\n",
      "    \"clusteredVariantAccession\": 379920406,\n",
      "    \"supportedByEvidence\": true,\n",
      "    \"assemblyMatch\": true,\n",
      "    \"allelesMatch\": true,\n",
      "    \"validated\": false,\n",
      "    \"mapWeight\": null,\n",
      "    \"createdDate\": \"2021-09-08T13:08:25.551\",\n",
      "    \"remappedFrom\": null,\n",
      "    \"remappedDate\": null,\n",
      "    \"remappingId\": null,\n",
      "    \"backPropagatedVariantAccession\": null\n",
      "  }\n",
      "}\n",
      "Number of submitted variant=23\n"
     ]
    }
   ],
   "source": [
    "print(json.dumps(output[0], indent=2))\n",
    "print('Number of submitted variant=' + str(len(output)))"
   ]
  },
  {
   "cell_type": "markdown",
   "metadata": {},
   "source": [
    "Our general query provides an abundance of information including date the ID was created and if the variant has been remapped to a newer assembly. \n",
    "It also lets us know the number of submitted variants that have been clustered under this RS ID (23)\n",
    "For this task we want to find the associated clustered SS IDs, associated projects, species/assembly, & variant location"
   ]
  },
  {
   "cell_type": "markdown",
   "metadata": {},
   "source": [
    "We can parse the JSON output to find data of interest and assign these to variables"
   ]
  },
  {
   "cell_type": "code",
   "execution_count": 5,
   "metadata": {},
   "outputs": [],
   "source": [
    "ss_list=[]\n",
    "for record in output:\n",
    "    ss_list.append(record['accession'])\n",
    "prjeb_list=[]\n",
    "for project in output:\n",
    "    prjeb_list.append(project['data']['projectAccession'])\n",
    "assembly = output[0]['data']['referenceSequenceAccession']\n",
    "chrom = output[0]['data']['contig']\n",
    "locat = output[0]['data']['start']\n",
    "species = output[0]['data']['taxonomyAccession']\n",
    "ref = output[0]['data']['referenceAllele']\n",
    "alt = output[0]['data']['alternateAllele']\n",
    "rsid = output[0]['data']['clusteredVariantAccession']"
   ]
  },
  {
   "cell_type": "code",
   "execution_count": 6,
   "metadata": {},
   "outputs": [],
   "source": [
    "species_list_url = f'https://www.ebi.ac.uk/eva/webservices/rest/v1/meta/species/list'\n",
    "list_res = requests.get(species_list_url)\n",
    "species_list = list_res.json()['response'][0]['result']\n",
    "for x in species_list:\n",
    "    if x['assemblyAccession'] == assembly:\n",
    "        assembly_code = x['assemblyName']\n",
    "for y in species_list:\n",
    "    if y['taxonomyId'] == species:\n",
    "        taxonomy_code = y['taxonomyScientificName']"
   ]
  },
  {
   "cell_type": "markdown",
   "metadata": {},
   "source": [
    "As the API uses INSDC nonmenclature, we can use another endpoint to convert the accessions to names"
   ]
  },
  {
   "cell_type": "code",
   "execution_count": 7,
   "metadata": {},
   "outputs": [],
   "source": [
    "insdc_contig = f'https://www.ebi.ac.uk/eva/webservices/contig-alias/v1/chromosomes/genbank/{chrom}'\n",
    "contig_res = requests.get(insdc_contig)\n",
    "chromosomes = contig_res.json()['_embedded']['chromosomeEntities']\n",
    "for z in chromosomes:\n",
    "    if z['insdcAccession'] == chrom:\n",
    "        chrom_num = z['genbankSequenceName']"
   ]
  },
  {
   "cell_type": "code",
   "execution_count": 8,
   "metadata": {},
   "outputs": [
    {
     "name": "stdout",
     "output_type": "stream",
     "text": [
      "RS_ID = rs379920406\n",
      "SS_ID(s) = [7571130482, 7626432460, 7217211020, 683318726, 1451546628, 1088931533, 758509205, 2126697835, 1515067307, 1956275935, 1088931533, 683318726, 1404048026, 1451546628, 1404048026, 1829370055, 2126697835, 830915657, 758509205, 1956275935, 1515067307, 1829370055, 830915657]\n",
      "Submission_project(s) =['PRJEB46861', 'PRJEB47999', 'PRJEB38336', 'TZ_TUM_43_FV_SEQ SNPS', 'WBARENDSE_BRA2 - SNP', 'PRJEB7061', '1000_BULL_GENOMES_1000_BULL_GENOMES_RUN2', 'BIOPOP_WHOLE_GENOME_SNP_ASSAY', 'PRJEB6119', 'AU-MBG-MOLGEN_WHOLEGENOME_SNP_DISCOVERY', 'PRJEB7061', 'TZ_TUM_43_FV_SEQ SNPS', 'HAFL_QUALITAS_20140601_SLIG', 'WBARENDSE_BRA2 - SNP', 'HAFL_QUALITAS_20140601_SLIG', 'MARC_GPE_BULL_GENEX', 'BIOPOP_WHOLE_GENOME_SNP_ASSAY', 'IZ-PIB_SNP_INDEL_DISCOVERY', '1000_BULL_GENOMES_1000_BULL_GENOMES_RUN2', 'AU-MBG-MOLGEN_WHOLEGENOME_SNP_DISCOVERY', 'PRJEB6119', 'MARC_GPE_BULL_GENEX', 'IZ-PIB_SNP_INDEL_DISCOVERY']\n",
      "Species/Assembly = Bos taurus/ARS-UCD1.2\n",
      "Variant_location = 6:85411136\n",
      "REF/ALT = C/T\n"
     ]
    }
   ],
   "source": [
    "print('RS_ID = ', \"rs\", (rsid), sep='')\n",
    "print('SS_ID(s) = ', (ss_list), sep='')\n",
    "print('Submission_project(s) =', (prjeb_list), sep='')\n",
    "print('Species/Assembly = ', (taxonomy_code), \"/\", (assembly_code), sep='')\n",
    "print('Variant_location = ', (chrom_num), \":\", (locat), sep='')\n",
    "print('REF/ALT = ', (ref), \"/\", (alt), sep='')"
   ]
  }
 ],
 "metadata": {
  "kernelspec": {
   "display_name": "Python 3",
   "language": "python",
   "name": "python3"
  },
  "language_info": {
   "codemirror_mode": {
    "name": "ipython",
    "version": 3
   },
   "file_extension": ".py",
   "mimetype": "text/x-python",
   "name": "python",
   "nbconvert_exporter": "python",
   "pygments_lexer": "ipython3",
   "version": "3.6.9"
  }
 },
 "nbformat": 4,
 "nbformat_minor": 2
}
