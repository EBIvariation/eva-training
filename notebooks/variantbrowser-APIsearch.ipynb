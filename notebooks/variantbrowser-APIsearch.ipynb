{
 "cells": [
  {
   "cell_type": "markdown",
   "metadata": {},
   "source": [
    "# Fetching data from EVA variant browser using RS ID\n",
    "## API swagger documentation - [Variant_info_API](https://www.ebi.ac.uk/eva/webservices/rest/swagger-ui.html)\n",
    "We can use the API to extract data from variants available in the [EVA_variant_browser](https://www.ebi.ac.uk/eva/?Variant-Browser&species=ecaballus_20&selectFilter=region&studies=PRJEB24624%2CPRJEB24630%2CBROAD_EQUCAB2.0%3A2008.08.08%2CPRJEB23301%2CPRJEB30116%2CPRJEB26741%2CPRJEB27771%2CPRJEB32686%2CPRJEB25439%2CPRJEB23441%2CPRJEB22866%2CPRJEB38010%2CPRJEB9799&region=1%3A3000000-3100000). Using the species, assembly, & RS ID, we can obtain information such as location and associated IDs:\n",
    "* **species** using the first letter of the genus, followed by the full species name `e.g hsapiens`\n",
    "* **assembly** using the standard assembly name `e.g. grch37 or grch38`\n",
    "* **RS ID**\n",
    "\n",
    "The full list of valid entries for species & assembly can be found here: https://www.ebi.ac.uk/eva/webservices/rest/v1/meta/species/list/"
   ]
  },
  {
   "cell_type": "code",
   "execution_count": 1,
   "metadata": {},
   "outputs": [],
   "source": [
    "import requests\n",
    "import json"
   ]
  },
  {
   "cell_type": "code",
   "execution_count": 2,
   "metadata": {},
   "outputs": [],
   "source": [
    "# Query parameters - change for ID of interest\n",
    "species = \"ecaballus\" # - valid values can be found in 'taxonomyCode' from https://www.ebi.ac.uk/eva/webservices/rest/v1/meta/species/list/\n",
    "assembly = \"20\" # - valid values can be found in 'assemblyCode' from https://www.ebi.ac.uk/eva/webservices/rest/v1/meta/species/list/\n",
    "rsid = \"rs68485567\" "
   ]
  },
  {
   "cell_type": "markdown",
   "metadata": {},
   "source": [
    "Once we have our query parameters set, the API is used to output our response in JSON format"
   ]
  },
  {
   "cell_type": "code",
   "execution_count": 3,
   "metadata": {},
   "outputs": [],
   "source": [
    "request_url = f'https://www.ebi.ac.uk/eva/webservices/rest/v2/identifiers/{rsid}/variants?species={species}&assembly={assembly}'\n",
    "response = requests.get(request_url)\n",
    "output = response.json()"
   ]
  },
  {
   "cell_type": "markdown",
   "metadata": {},
   "source": [
    "We can print out the entire result as seen below:"
   ]
  },
  {
   "cell_type": "code",
   "execution_count": 4,
   "metadata": {},
   "outputs": [
    {
     "name": "stdout",
     "output_type": "stream",
     "text": [
      "{'_embedded': {'variantList': [{'chromosome': '1', 'start': 3008759, 'end': 3008759, 'reference': 'G', 'alternate': 'T', 'ids': ['rs68485567', 'ss105144629'], 'hgvs': {'genomic': ['1:g.3008759G>T']}, 'length': 1, 'type': 'SNV', '_links': {'sources': {'href': 'http://www.ebi.ac.uk/eva/webservices/rest/v2/variants/1:3008759:G:T/sources?species=ecaballus&assembly=20'}, 'annotation': {'href': 'http://www.ebi.ac.uk/eva/webservices/rest/v2/variants/1:3008759:G:T/annotations?species=ecaballus&assembly=20'}}}]}}\n"
     ]
    }
   ],
   "source": [
    "print(output)"
   ]
  },
  {
   "cell_type": "markdown",
   "metadata": {},
   "source": [
    "We now need to sieve through the output to parse out the information we want"
   ]
  },
  {
   "cell_type": "code",
   "execution_count": 5,
   "metadata": {},
   "outputs": [],
   "source": [
    "chrom = output['_embedded']['variantList'][0]['chromosome']\n",
    "locat = output['_embedded']['variantList'][0]['start']\n",
    "ref = output['_embedded']['variantList'][0]['reference']\n",
    "alt = output['_embedded']['variantList'][0]['alternate']\n",
    "cluster = output['_embedded']['variantList'][0]['ids']"
   ]
  },
  {
   "cell_type": "markdown",
   "metadata": {},
   "source": [
    "The variant location, reference & alternate alleles, as well as the SS/RS IDs have been set to 5 variables (*chrom, locat, ref, alt, cluster*). We can output the result of our final query below:"
   ]
  },
  {
   "cell_type": "code",
   "execution_count": 6,
   "metadata": {},
   "outputs": [
    {
     "name": "stdout",
     "output_type": "stream",
     "text": [
      "Variant_location = 1:3008759\n",
      "Reference/Alternate = G/T\n",
      "IDs = ['rs68485567', 'ss105144629']\n"
     ]
    }
   ],
   "source": [
    "print('Variant_location = ', (chrom), \":\", (locat), sep='')\n",
    "print('Reference/Alternate = ', (ref), \"/\", (alt), sep='')\n",
    "print('IDs = ', (cluster), sep='')"
   ]
  }
 ],
 "metadata": {
  "kernelspec": {
   "display_name": "Python 3",
   "language": "python",
   "name": "python3"
  },
  "language_info": {
   "codemirror_mode": {
    "name": "ipython",
    "version": 3
   },
   "file_extension": ".py",
   "mimetype": "text/x-python",
   "name": "python",
   "nbconvert_exporter": "python",
   "pygments_lexer": "ipython3",
   "version": "3.6.9"
  }
 },
 "nbformat": 4,
 "nbformat_minor": 2
}
